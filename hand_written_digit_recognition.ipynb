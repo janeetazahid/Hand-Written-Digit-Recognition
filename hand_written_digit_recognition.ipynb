{
 "cells": [
  {
   "cell_type": "code",
   "execution_count": null,
   "id": "legal-ending",
   "metadata": {},
   "outputs": [],
   "source": [
    "\"\"\"\n",
    "The code was replicated from the following source.\n",
    "Title: Effective-Handwritten-Digit-Recognition-using-Deep-Convolution-Neural-Network\n",
    "Authors: Bharadwaj Yellapragada, Kolla Bhanu Prakash, P. Rajaram, V.P. Sriram,  S. Sudhakar \n",
    "Date: May 8, 2020\n",
    "Availability: https://github.com/BharadwajYellapragada/Effective-Handwritten-Digit-Recognition-using-Deep-Convolution-Neural-Network\n",
    "\"\"\""
   ]
  },
  {
   "cell_type": "code",
   "execution_count": 8,
   "id": "interesting-telling",
   "metadata": {},
   "outputs": [],
   "source": [
    "#imports\n",
    "from tensorflow import keras\n",
    "import numpy as np \n",
    "import cv2\n",
    "from PIL import Image\n",
    "import matplotlib.pyplot as plt\n",
    "import graphviz\n",
    "import pydot"
   ]
  },
  {
   "cell_type": "code",
   "execution_count": 2,
   "id": "interracial-madagascar",
   "metadata": {},
   "outputs": [],
   "source": [
    "# Import dataset\n",
    "mnist_dataset=keras.datasets.mnist"
   ]
  },
  {
   "cell_type": "code",
   "execution_count": 3,
   "id": "middle-mailman",
   "metadata": {},
   "outputs": [],
   "source": [
    "# extract training and testing set (with labels) from dataset\n",
    "(train_images,train_labels),(test_images,test_labels) = mnist_dataset.load_data()"
   ]
  },
  {
   "cell_type": "code",
   "execution_count": 4,
   "id": "fitted-ozone",
   "metadata": {},
   "outputs": [
    {
     "name": "stdout",
     "output_type": "stream",
     "text": [
      "Number of images in training set: 60000 \n",
      " Number of images in testing set: 10000\n"
     ]
    }
   ],
   "source": [
    "print(\"Number of images in training set: {} \\n Number of images in testing set: {}\".format(len(train_images),len(test_images)))"
   ]
  },
  {
   "cell_type": "code",
   "execution_count": 5,
   "id": "contrary-freedom",
   "metadata": {},
   "outputs": [],
   "source": [
    "#reshape images\n",
    "train_images = train_images.reshape(len(train_images),28,28,1)\n",
    "test_images = test_images.reshape(len(test_images),28,28,1)"
   ]
  },
  {
   "cell_type": "code",
   "execution_count": 6,
   "id": "cooperative-specialist",
   "metadata": {},
   "outputs": [
    {
     "name": "stdout",
     "output_type": "stream",
     "text": [
      "4\n"
     ]
    },
    {
     "data": {
      "image/png": "[encoded data removed]",
      "text/plain": [
       "<Figure size 432x288 with 1 Axes>"
      ]
     },
     "metadata": {
      "needs_background": "light"
     },
     "output_type": "display_data"
    }
   ],
   "source": [
    "#show sample \n",
    "plt.gray()\n",
    "plt.imshow(train_images[9])\n",
    "print(train_labels[9])"
   ]
  },
  {
   "cell_type": "code",
   "execution_count": 7,
   "id": "swiss-tuesday",
   "metadata": {},
   "outputs": [],
   "source": [
    "# create model\n",
    "model = keras.models.Sequential([\n",
    "                                 keras.layers.Conv2D(64,(3,3),activation='relu',input_shape=(28,28,1)),\n",
    "                                 keras.layers.MaxPool2D(2,2),\n",
    "                                 keras.layers.Flatten(),\n",
    "                                 keras.layers.Dense(28,activation='relu'),\n",
    "                                 keras.layers.Dense(10,activation='softmax')\n",
    "])"
   ]
  },
  {
   "cell_type": "code",
   "execution_count": 8,
   "id": "altered-hepatitis",
   "metadata": {},
   "outputs": [
    {
     "name": "stdout",
     "output_type": "stream",
     "text": [
      "Model: \"sequential\"\n",
      "_________________________________________________________________\n",
      "Layer (type)                 Output Shape              Param #   \n",
      "=================================================================\n",
      "conv2d (Conv2D)              (None, 26, 26, 64)        640       \n",
      "_________________________________________________________________\n",
      "max_pooling2d (MaxPooling2D) (None, 13, 13, 64)        0         \n",
      "_________________________________________________________________\n",
      "flatten (Flatten)            (None, 10816)             0         \n",
      "_________________________________________________________________\n",
      "dense (Dense)                (None, 28)                302876    \n",
      "_________________________________________________________________\n",
      "dense_1 (Dense)              (None, 10)                290       \n",
      "=================================================================\n",
      "Total params: 303,806\n",
      "Trainable params: 303,806\n",
      "Non-trainable params: 0\n",
      "_________________________________________________________________\n",
      "None\n"
     ]
    }
   ],
   "source": [
    "#print model summary\n",
    "print(model.summary())"
   ]
  },
  {
   "cell_type": "code",
   "execution_count": 9,
   "id": "formal-indonesian",
   "metadata": {},
   "outputs": [],
   "source": [
    "#compile model\n",
    "model.compile(optimizer='adam',metrics=['acc'],loss='sparse_categorical_crossentropy')"
   ]
  },
  {
   "cell_type": "code",
   "execution_count": 10,
   "id": "distributed-surveillance",
   "metadata": {},
   "outputs": [],
   "source": [
    "#implement early stopping with a patience of 5 epoches \n",
    "es=keras.callbacks.EarlyStopping(monitor='loss', patience=5)"
   ]
  },
  {
   "cell_type": "code",
   "execution_count": 11,
   "id": "aggressive-bottle",
   "metadata": {
    "scrolled": true
   },
   "outputs": [
    {
     "name": "stdout",
     "output_type": "stream",
     "text": [
      "Epoch 1/100\n",
      "1875/1875 [==============================] - 18s 10ms/step - loss: 1.8624 - acc: 0.7014\n",
      "Epoch 2/100\n",
      "1875/1875 [==============================] - 22s 12ms/step - loss: 0.1167 - acc: 0.9677\n",
      "Epoch 3/100\n",
      "1875/1875 [==============================] - 23s 12ms/step - loss: 0.0593 - acc: 0.9823\n",
      "Epoch 4/100\n",
      "1875/1875 [==============================] - 22s 12ms/step - loss: 0.0467 - acc: 0.9858\n",
      "Epoch 5/100\n",
      "1875/1875 [==============================] - 25s 13ms/step - loss: 0.0364 - acc: 0.9881\n",
      "Epoch 6/100\n",
      "1875/1875 [==============================] - 21s 11ms/step - loss: 0.0331 - acc: 0.9892\n",
      "Epoch 7/100\n",
      "1875/1875 [==============================] - 22s 12ms/step - loss: 0.0252 - acc: 0.9916\n",
      "Epoch 8/100\n",
      "1875/1875 [==============================] - 23s 12ms/step - loss: 0.0211 - acc: 0.9929\n",
      "Epoch 9/100\n",
      "1875/1875 [==============================] - 22s 12ms/step - loss: 0.0245 - acc: 0.9921 1s - l\n",
      "Epoch 10/100\n",
      "1875/1875 [==============================] - 22s 12ms/step - loss: 0.0182 - acc: 0.9938\n",
      "Epoch 11/100\n",
      "1875/1875 [==============================] - 21s 11ms/step - loss: 0.0200 - acc: 0.9940\n",
      "Epoch 12/100\n",
      "1875/1875 [==============================] - 21s 11ms/step - loss: 0.0149 - acc: 0.9955\n",
      "Epoch 13/100\n",
      "1875/1875 [==============================] - 23s 12ms/step - loss: 0.0173 - acc: 0.9950\n",
      "Epoch 14/100\n",
      "1875/1875 [==============================] - 22s 12ms/step - loss: 0.0136 - acc: 0.9960\n",
      "Epoch 15/100\n",
      "1875/1875 [==============================] - 22s 12ms/step - loss: 0.0128 - acc: 0.9962\n",
      "Epoch 16/100\n",
      "1875/1875 [==============================] - 22s 12ms/step - loss: 0.0130 - acc: 0.9961\n",
      "Epoch 17/100\n",
      "1875/1875 [==============================] - 21s 11ms/step - loss: 0.0172 - acc: 0.9955\n",
      "Epoch 18/100\n",
      "1875/1875 [==============================] - 22s 12ms/step - loss: 0.0121 - acc: 0.9965\n",
      "Epoch 19/100\n",
      "1875/1875 [==============================] - 23s 12ms/step - loss: 0.0120 - acc: 0.9968\n",
      "Epoch 20/100\n",
      "1875/1875 [==============================] - 22s 12ms/step - loss: 0.0124 - acc: 0.9966\n",
      "Epoch 21/100\n",
      "1875/1875 [==============================] - 21s 11ms/step - loss: 0.0140 - acc: 0.9964\n",
      "Epoch 22/100\n",
      "1875/1875 [==============================] - 21s 11ms/step - loss: 0.0106 - acc: 0.9971\n",
      "Epoch 23/100\n",
      "1875/1875 [==============================] - 22s 12ms/step - loss: 0.0086 - acc: 0.9978\n",
      "Epoch 24/100\n",
      "1875/1875 [==============================] - 22s 12ms/step - loss: 0.0148 - acc: 0.9968\n",
      "Epoch 25/100\n",
      "1875/1875 [==============================] - 22s 12ms/step - loss: 0.0134 - acc: 0.9969\n",
      "Epoch 26/100\n",
      "1875/1875 [==============================] - 22s 12ms/step - loss: 0.0148 - acc: 0.9967\n",
      "Epoch 27/100\n",
      "1875/1875 [==============================] - 23s 12ms/step - loss: 0.0120 - acc: 0.9972\n",
      "Epoch 28/100\n",
      "1875/1875 [==============================] - 22s 12ms/step - loss: 0.0102 - acc: 0.9974\n"
     ]
    }
   ],
   "source": [
    "#fit model \n",
    "history=model.fit(train_images,train_labels,epochs=100,callbacks=[es])"
   ]
  },
  {
   "cell_type": "code",
   "execution_count": 12,
   "id": "contained-military",
   "metadata": {},
   "outputs": [
    {
     "name": "stdout",
     "output_type": "stream",
     "text": [
      "313/313 [==============================] - 1s 4ms/step - loss: 0.3235 - acc: 0.9773\n"
     ]
    }
   ],
   "source": [
    "#evalute on test set \n",
    "score, acc = model.evaluate(test_images, test_labels)"
   ]
  },
  {
   "cell_type": "code",
   "execution_count": 13,
   "id": "former-hybrid",
   "metadata": {},
   "outputs": [
    {
     "name": "stdout",
     "output_type": "stream",
     "text": [
      "accuracy: 97.730%\n"
     ]
    }
   ],
   "source": [
    "#print accuracy of model \n",
    "print(\"accuracy: {:.3%}\".format(acc))"
   ]
  },
  {
   "cell_type": "code",
   "execution_count": 18,
   "id": "integrated-replacement",
   "metadata": {},
   "outputs": [
    {
     "data": {
      "image/png": "[encoded data removed]",
      "text/plain": [
       "<Figure size 432x288 with 1 Axes>"
      ]
     },
     "metadata": {
      "needs_background": "light"
     },
     "output_type": "display_data"
    }
   ],
   "source": [
    "# plot accuracy throughout training\n",
    "plt.plot(history.history['acc'])\n",
    "plt.title('model accuracy')\n",
    "plt.ylabel('Accuracy')\n",
    "plt.xlabel('epoch')\n",
    "plt.show()"
   ]
  },
  {
   "cell_type": "code",
   "execution_count": 20,
   "id": "careful-joseph",
   "metadata": {},
   "outputs": [
    {
     "data": {
      "image/png": "[encoded data removed]",
      "text/plain": [
       "<Figure size 432x288 with 1 Axes>"
      ]
     },
     "metadata": {
      "needs_background": "light"
     },
     "output_type": "display_data"
    }
   ],
   "source": [
    "# plot loss throughout training\n",
    "plt.plot(history.history['loss'])\n",
    "plt.title('model Loss')\n",
    "plt.ylabel('Loss')\n",
    "plt.xlabel('epoch')\n",
    "plt.show()"
   ]
  },
  {
   "cell_type": "code",
   "execution_count": 23,
   "id": "powerful-trade",
   "metadata": {},
   "outputs": [
    {
     "name": "stdout",
     "output_type": "stream",
     "text": [
      "INFO:tensorflow:Assets written to: model\\assets\n"
     ]
    }
   ],
   "source": [
    "#save model \n",
    "model.save('model')"
   ]
  }
 ],
 "metadata": {
  "kernelspec": {
   "display_name": "Python 3",
   "language": "python",
   "name": "python3"
  },
  "language_info": {
   "codemirror_mode": {
    "name": "ipython",
    "version": 3
   },
   "file_extension": ".py",
   "mimetype": "text/x-python",
   "name": "python",
   "nbconvert_exporter": "python",
   "pygments_lexer": "ipython3",
   "version": "3.7.7"
  }
 },
 "nbformat": 4,
 "nbformat_minor": 5
}
